{
 "cells": [
  {
   "cell_type": "code",
   "execution_count": 40,
   "id": "1d002ff5",
   "metadata": {},
   "outputs": [],
   "source": [
    "import pdal\n",
    "import os\n",
    "import time\n",
    "import json\n",
    "\n",
    "\n",
    "in_laz_dir = \"C:/Users/cmarmy/Desktop/lidar/\"\n",
    "in_tif_dir = \"C:/Users/cmarmy/Desktop/ortho/\"\n",
    "out_laz_dir = \"C:/Users/cmarmy/Desktop/lidar_colorise/\"\n",
    "os.makedirs(out_laz_dir, exist_ok=True)\n",
    "\n",
    "tiles = [i.split(\".\")[0] for i in os.listdir(in_laz_dir)]\n",
    "\n",
    "start = time.time()\n",
    "for i, t in enumerate(tiles):\n",
    "    in_laz = in_laz_dir + f\"{t}.laz\"\n",
    "    in_tif = in_tif_dir + f\"{t}.tif\"\n",
    "    out_laz = out_laz_dir + f\"{t}.laz\"\n",
    "\n",
    "    print(f\"Dalle {i + 1} ({t}) sur {len(tiles)}...\")\n",
    "    if not os.path.isfile(in_tif):\n",
    "        print(f\"\\tErreur : le fichier {in_tif} n'existe pas\")\n",
    "        continue\n",
    "        \n",
    "    print(in_tif)\n",
    "\n",
    "    pipeline_json = json.dumps(\n",
    "        [\n",
    "            {\n",
    "                \"type\":\"readers.las\",\n",
    "                \"filename\":f\"{in_laz}\",\n",
    "                \"spatialreference\":\"EPSG:2056\",\n",
    "                \"compression\":\"lazperf\"\n",
    "            },\n",
    "            {\n",
    "                \"type\":\"filters.colorization\",\n",
    "                \"dimensions\":\"Blue:4:255.0, Red:3:255.0, Green:1:255.0\",\n",
    "                \"raster\":f\"{in_tif}\"\n",
    "            },\n",
    "            {\n",
    "                \"type\":\"writers.las\",\n",
    "                \"filename\":f\"{out_laz}\",\n",
    "                \"a_srs\":\"EPSG:2056\",\n",
    "                \"compression\":\"lazperf\"\n",
    "            }\n",
    "        ]\n",
    "    )\n",
    "\n",
    "    pipeline = pdal.Pipeline(pipeline_json)\n",
    "    start_iter = time.time()\n",
    "    pipeline.execute()\n",
    "    end_iter = time.time()\n",
    "\n",
    "    print(f\"Dalle {i + 1} traitée ({end_iter - start_iter} secondes, {end_iter - start} total)...\")"
   ]
  }
 ],
 "metadata": {
  "kernelspec": {
   "display_name": "Python 3 (ipykernel)",
   "language": "python",
   "name": "python3"
  },
  "language_info": {
   "codemirror_mode": {
    "name": "ipython",
    "version": 3
   },
   "file_extension": ".py",
   "mimetype": "text/x-python",
   "name": "python",
   "nbconvert_exporter": "python",
   "pygments_lexer": "ipython3",
   "version": "3.11.0"
  }
 },
 "nbformat": 4,
 "nbformat_minor": 5
}
