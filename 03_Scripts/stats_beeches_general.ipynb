{
 "cells": [
  {
   "cell_type": "code",
   "execution_count": null,
   "metadata": {},
   "outputs": [],
   "source": [
    "import os\n",
    "\n",
    "import geopandas as gpd\n",
    "import pandas as pd\n",
    "\n",
    "from rasterstats import zonal_stats\n",
    "\n",
    "import fct_misc\n",
    "from fct_stats import pca_procedure"
   ]
  },
  {
   "cell_type": "code",
   "execution_count": null,
   "metadata": {},
   "outputs": [],
   "source": [
    "DATA_PATH='/mnt/data-01/gsalamin/deperissement-hetre/'\n",
    "\n",
    "NORTH_NDVI=os.path.join(DATA_PATH, 'processed/NDVI/*.tif')\n",
    "SOUTH_NDVI=os.path.join(DATA_PATH, 'processed/NDVI/*.tif')\n",
    "\n",
    "NORTH_MASK=os.path.join(DATA_PATH, 'processed/CHM/CHM_binary_beurnevesin.tif')\n",
    "SOUTH_MASK=os.path.join(DATA_PATH, 'processed/CHM/CHM_binary_miecourt.tif')\n",
    "\n",
    "AOI_GT=os.path.join(DATA_PATH, 'initial/AOI/AOI_tiles/AOI_GT.shp')\n",
    "\n",
    "BEECHES_POLYGONS=os.path.join(DATA_PATH, 'processed/trees/ok_trees.gpkg')\n",
    "BEECHES_LAYER='ok_trees_20_40_m'\n",
    "\n",
    "written_files=[]\n"
   ]
  },
  {
   "attachments": {},
   "cell_type": "markdown",
   "metadata": {},
   "source": [
    "# Read data"
   ]
  },
  {
   "cell_type": "code",
   "execution_count": null,
   "metadata": {},
   "outputs": [],
   "source": [
    "beeches=gpd.read_file(BEECHES_POLYGONS, layer=BEECHES_LAYER)\n",
    "\n",
    "beeches.drop(columns=['Comm', 'essence', 'diam_tronc', 'nb_tronc', 'hauteur', 'verticalit', 'diametre_c', 'mortalite_',\n",
    "                'transparen', 'masse_foli', 'etat_tronc', 'etat_sanit', 'environnem',\n",
    "                'microtopog', 'pente', 'remarque', 'date_leve', 'responsabl',\n",
    "                'date_creat', 'vegetation', 'class_san5', 'class_san3', 'r_couronne', 'zone'], inplace=True)"
   ]
  },
  {
   "cell_type": "code",
   "execution_count": null,
   "metadata": {},
   "outputs": [],
   "source": [
    "# tiles_list_north=glob(NORTH_NDVI)\n",
    "# tiles_list_south=glob(SOUTH_NDVI)\n",
    "aoi_gt=gpd.read_file(AOI_GT)"
   ]
  },
  {
   "cell_type": "code",
   "execution_count": null,
   "metadata": {},
   "outputs": [],
   "source": [
    "north_chm=fct_misc.polygonize_binary_raster(NORTH_MASK)\n",
    "south_chm=fct_misc.polygonize_binary_raster(SOUTH_MASK)\n",
    "\n",
    "chm=pd.concat([north_chm, south_chm])\n",
    "del north_chm, south_chm"
   ]
  },
  {
   "cell_type": "markdown",
   "metadata": {},
   "source": [
    "# Treat data"
   ]
  },
  {
   "cell_type": "code",
   "execution_count": null,
   "metadata": {},
   "outputs": [],
   "source": [
    "# fct_misc.test_crs(beeches.crs, chm.crs)\n",
    "# correct_high_beeches=gpd.overlay(beeches, chm)\n",
    "# correct_high_beeches.drop(columns=['class'], inplace=True)\n",
    "\n",
    "correct_high_beeches=beeches.copy()"
   ]
  },
  {
   "cell_type": "code",
   "execution_count": null,
   "metadata": {},
   "outputs": [],
   "source": [
    "aoi_gt.head()"
   ]
  },
  {
   "cell_type": "code",
   "execution_count": null,
   "metadata": {},
   "outputs": [],
   "source": [
    "rgb_pathes=[]\n",
    "ndvi_pathes=[]\n",
    "\n",
    "for tile_name in aoi_gt['NAME'].values:\n",
    "    if tile_name.startswith('257'):\n",
    "        rgb_pathes.append(os.path.join(\n",
    "                            DATA_PATH,\n",
    "                            'initial/True_ortho/Tiled_North', 'North_ortho_JUHE_LV95_NF02_3cm_' + tile_name + '.tif'\n",
    "        ))\n",
    "        ndvi_pathes.append(os.path.join(\n",
    "                            DATA_PATH, \n",
    "                            'processed/NDVI', 'North_NDVI_' + tile_name + '.tif'\n",
    "        ))\n",
    "\n",
    "    elif tile_name.startswith('258'):\n",
    "        rgb_pathes.append(os.path.join(\n",
    "                            DATA_PATH,\n",
    "                            'initial/True_ortho/Tiled_South', 'South_ortho_JUHE_LV95_NF02_3cm_' + tile_name + '.tif'\n",
    "        ))\n",
    "        ndvi_pathes.append(os.path.join(\n",
    "                            DATA_PATH, \n",
    "                            'processed/NDVI', 'South_NDVI_' + tile_name + '.tif'\n",
    "        ))\n"
   ]
  },
  {
   "cell_type": "code",
   "execution_count": null,
   "metadata": {},
   "outputs": [],
   "source": [
    "aoi_gt['path_RGB']=rgb_pathes\n",
    "aoi_gt['path_NDVI']=ndvi_pathes\n"
   ]
  },
  {
   "cell_type": "code",
   "execution_count": null,
   "metadata": {},
   "outputs": [],
   "source": [
    "clipped_beeches=fct_misc.clip_labels(correct_high_beeches, aoi_gt)"
   ]
  },
  {
   "cell_type": "code",
   "execution_count": null,
   "metadata": {},
   "outputs": [],
   "source": [
    "for health_class in clipped_beeches['etat_sanitaire'].unique():\n",
    "    \n",
    "    print(f\"There are {clipped_beeches[clipped_beeches['etat_sanitaire']==health_class].shape[0]} beeches with the health status '{health_class}'\")\n"
   ]
  },
  {
   "cell_type": "code",
   "execution_count": null,
   "metadata": {},
   "outputs": [],
   "source": [
    "clipped_beeches.crs\n",
    "\n"
   ]
  },
  {
   "cell_type": "code",
   "execution_count": null,
   "metadata": {},
   "outputs": [],
   "source": [
    "import warnings\n",
    "warnings.filterwarnings(\"ignore\", message=\"Warning 1: The definition of projected CRS EPSG:2056 got from GeoTIFF keys is not the same as the one from the EPSG registry, which may cause issues during reprojection operations. Set GTIFF_SRS_SOURCE configuration option to EPSG to use official parameters (overriding the ones from GeoTIFF keys), or to GEOKEYS to use custom values from GeoTIFF keys and drop the EPSG code.\")"
   ]
  },
  {
   "cell_type": "code",
   "execution_count": null,
   "metadata": {},
   "outputs": [],
   "source": [
    "clipped_beeches=clipped_beeches[~clipped_beeches.is_empty]\n"
   ]
  },
  {
   "cell_type": "code",
   "execution_count": null,
   "metadata": {},
   "outputs": [],
   "source": [
    "beeches_stats=pd.DataFrame()\n",
    "BANDS={1: 'rouge', 2: 'vert', 3: 'bleu', 4: 'proche IR'}\n",
    "calculated_stats=['min', 'max', 'mean', 'median', 'std']\n",
    "\n",
    "for beech in clipped_beeches.itertuples():\n",
    "    for band_num in BANDS.keys():\n",
    "        stats_rgb=zonal_stats(beech.geometry, beech.path_RGB, stats=calculated_stats,\n",
    "        band=band_num, nodata=9999)\n",
    "\n",
    "        stats_dict_rgb=stats_rgb[0]\n",
    "        stats_dict_rgb['band']=BANDS[band_num]\n",
    "        stats_dict_rgb['health_status']=beech.etat_sanitaire\n",
    "\n",
    "        beeches_stats=pd.concat([beeches_stats, pd.DataFrame(stats_dict_rgb, index=[0])], ignore_index=True)\n",
    "    \n",
    "    stats_ndvi=zonal_stats(beech.geometry, beech.path_NDVI, stats=calculated_stats,\n",
    "        band=1, nodata=99999)\n",
    "\n",
    "    stats_dict_ndvi=stats_ndvi[0]\n",
    "    stats_dict_ndvi['band']='ndvi'\n",
    "    stats_dict_ndvi['health_status']=beech.etat_sanitaire\n",
    "\n",
    "    beeches_stats=pd.concat([beeches_stats, pd.DataFrame(stats_dict_ndvi, index=[0])], ignore_index=True)\n"
   ]
  },
  {
   "cell_type": "code",
   "execution_count": null,
   "metadata": {},
   "outputs": [],
   "source": [
    "beeches_stats.loc[beeches_stats['health_status']=='sain', 'health_status']='1. sain'\n",
    "beeches_stats.loc[beeches_stats['health_status']=='malade', 'health_status']='2. malade'\n",
    "beeches_stats.loc[beeches_stats['health_status']=='mort', 'health_status']='3. mort'\n"
   ]
  },
  {
   "cell_type": "code",
   "execution_count": null,
   "metadata": {},
   "outputs": [],
   "source": [
    "beeches_stats.head(10)"
   ]
  },
  {
   "cell_type": "code",
   "execution_count": null,
   "metadata": {},
   "outputs": [],
   "source": [
    "table_path=fct_misc.ensure_dir_exists(os.path.join(DATA_PATH, 'final/tables'))\n",
    "im_path=fct_misc.ensure_dir_exists(os.path.join(DATA_PATH, 'final/images'))"
   ]
  },
  {
   "attachments": {},
   "cell_type": "markdown",
   "metadata": {},
   "source": [
    "## Make boxplots"
   ]
  },
  {
   "cell_type": "code",
   "execution_count": null,
   "metadata": {},
   "outputs": [],
   "source": [
    "for band in beeches_stats['band'].unique():\n",
    "\n",
    "    band_stats=beeches_stats[beeches_stats['band']==band]\n",
    "\n",
    "    bxplt_beeches=band_stats[calculated_stats + ['health_status']].plot.box(\n",
    "                                by='health_status',\n",
    "                                title=f'Distribution des statistiques sur les hêtres pour la bande {band}',\n",
    "                                figsize=(18, 5),\n",
    "                                grid=True,\n",
    "    )\n",
    "\n",
    "    fig=bxplt_beeches[0].get_figure()\n",
    "    filepath=os.path.join(im_path, f'boxplot_stats_band_{band}.jpg')\n",
    "    fig.savefig(filepath, bbox_inches='tight')\n",
    "    written_files.append(filepath)\n"
   ]
  },
  {
   "attachments": {},
   "cell_type": "markdown",
   "metadata": {},
   "source": [
    "## Make PCA"
   ]
  },
  {
   "cell_type": "code",
   "execution_count": null,
   "metadata": {},
   "outputs": [],
   "source": [
    "for band in beeches_stats['band'].unique():\n",
    "    features = calculated_stats\n",
    "    to_describe='health_status'\n",
    "    band_stats=beeches_stats[beeches_stats['band']==band]\n",
    "\n",
    "    written_files_pca_pixels=pca_procedure(band_stats, features, to_describe,\n",
    "                            table_path, im_path, \n",
    "                            file_prefix=f'PCA_beeches_{band}_band',\n",
    "                            title_graph=f'PCA des hêtres en fonction de leur état de santé sur la bande {band}')\n",
    "\n",
    "    written_files.extend(written_files_pca_pixels)"
   ]
  },
  {
   "cell_type": "code",
   "execution_count": null,
   "metadata": {},
   "outputs": [],
   "source": []
  }
 ],
 "metadata": {
  "kernelspec": {
   "display_name": "hetres",
   "language": "python",
   "name": "python3"
  },
  "language_info": {
   "codemirror_mode": {
    "name": "ipython",
    "version": 3
   },
   "file_extension": ".py",
   "mimetype": "text/x-python",
   "name": "python",
   "nbconvert_exporter": "python",
   "pygments_lexer": "ipython3",
   "version": "3.8.10"
  },
  "orig_nbformat": 4,
  "vscode": {
   "interpreter": {
    "hash": "d26f081f1dde88e32ee65cc3add2c47cd074c36282fa36642e704f93530892f7"
   }
  }
 },
 "nbformat": 4,
 "nbformat_minor": 2
}
