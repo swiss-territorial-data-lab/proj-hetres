{
 "cells": [
  {
   "cell_type": "code",
   "execution_count": null,
   "metadata": {},
   "outputs": [],
   "source": [
    "import os\n",
    "\n",
    "import geopandas as gpd\n",
    "import pandas as pd\n",
    "import numpy as np\n",
    "import matplotlib\n",
    "import rasterio\n",
    "\n",
    "from glob import glob\n",
    "\n",
    "import fct_misc\n",
    "from fct_stats import pca_procedure"
   ]
  },
  {
   "cell_type": "code",
   "execution_count": null,
   "metadata": {},
   "outputs": [],
   "source": [
    "DATA_PATH='/mnt/data-01/gsalamin/deperissement-hetre/'\n",
    "\n",
    "NORTH_ORTHO=os.path.join(DATA_PATH, 'initial/True_ortho/Tiled_North/')\n",
    "SOUTH_ORTHO=os.path.join(DATA_PATH, 'initial/True_ortho/Tiled_South/')\n",
    "\n",
    "NORTH_MASK=os.path.join(DATA_PATH, 'processed/CHM/CHM_binary_beurnevesin.tif')\n",
    "SOUTH_MASK=os.path.join(DATA_PATH, 'processed/CHM/CHM_binary_miecourt.tif')\n",
    "\n",
    "AOI_GT=os.path.join(DATA_PATH, 'initial/AOI/AOI_tiles/AOI_GT.shp')\n",
    "\n",
    "BEECHES_POLYGONS=os.path.join(DATA_PATH, 'processed/trees/ok_trees.gpkg')\n",
    "BEECHES_LAYER='ok_trees_20_40_m'\n",
    "\n",
    "written_files=[]\n"
   ]
  },
  {
   "cell_type": "markdown",
   "metadata": {},
   "source": [
    "# Import data"
   ]
  },
  {
   "cell_type": "code",
   "execution_count": null,
   "metadata": {},
   "outputs": [],
   "source": [
    "beeches=gpd.read_file(BEECHES_POLYGONS, layer=BEECHES_LAYER)"
   ]
  },
  {
   "cell_type": "code",
   "execution_count": null,
   "metadata": {},
   "outputs": [],
   "source": [
    "tiles_list_north=glob(NORTH_ORTHO)\n",
    "tiles_list_south=glob(SOUTH_ORTHO)"
   ]
  },
  {
   "cell_type": "code",
   "execution_count": null,
   "metadata": {},
   "outputs": [],
   "source": [
    "north_chm=fct_misc.polygonize_binary_raster(NORTH_MASK)\n",
    "south_chm=fct_misc.polygonize_binary_raster(SOUTH_MASK)\n",
    "\n",
    "chm=pd.concat([north_chm, south_chm])\n",
    "del north_chm, south_chm\n"
   ]
  },
  {
   "cell_type": "code",
   "execution_count": null,
   "metadata": {},
   "outputs": [],
   "source": [
    "aoi_gt=gpd.read_file(AOI_GT)"
   ]
  },
  {
   "cell_type": "code",
   "execution_count": null,
   "metadata": {},
   "outputs": [],
   "source": [
    "aoi_gt.head()"
   ]
  },
  {
   "attachments": {},
   "cell_type": "markdown",
   "metadata": {},
   "source": [
    "Treat pixel values"
   ]
  },
  {
   "cell_type": "code",
   "execution_count": null,
   "metadata": {},
   "outputs": [],
   "source": [
    "fct_misc.test_crs(beeches.crs, chm.crs)\n",
    "correct_high_beeches=gpd.overlay(beeches, chm)\n",
    "correct_high_beeches.drop(columns=['class'], inplace=True)"
   ]
  },
  {
   "cell_type": "code",
   "execution_count": null,
   "metadata": {},
   "outputs": [],
   "source": [
    "tiles_south=aoi_gt[aoi_gt['NAME'].str.startswith('258')]\n",
    "beeches_south=correct_high_beeches[correct_high_beeches['zone']=='Miecourt']\n",
    "beeches_on_tiles_south=gpd.overlay(beeches_south[['no_arbre', 'etat_sanitaire', 'geometry']],\n",
    "                                    tiles_south[['NAME', 'geometry']])\n",
    "beeches_on_tiles_south['filepath']=[os.path.join(SOUTH_ORTHO, 'South_ortho_JUHE_LV95_NF02_3cm_' + name + '.tif')\n",
    "                                        for name in beeches_on_tiles_south['NAME'].values]\n"
   ]
  },
  {
   "cell_type": "code",
   "execution_count": null,
   "metadata": {},
   "outputs": [],
   "source": [
    "del tiles_south, beeches_south"
   ]
  },
  {
   "cell_type": "code",
   "execution_count": null,
   "metadata": {},
   "outputs": [],
   "source": [
    "pixels_south=pd.DataFrame()\n",
    "for beech in beeches_on_tiles_south.itertuples():\n",
    "    pixels=fct_misc.get_pixel_values(beech.geometry, beech.filepath, bands=range(1,5),\n",
    "                                    health_status=beech.etat_sanitaire)\n",
    "\n",
    "    pixels_south=pd.concat([pixels_south, pixels])"
   ]
  },
  {
   "cell_type": "code",
   "execution_count": null,
   "metadata": {},
   "outputs": [],
   "source": [
    "tiles_north=aoi_gt[aoi_gt['NAME'].str.startswith('257')]\n",
    "beeches_north=correct_high_beeches[correct_high_beeches['zone'].str.startswith('Beurnevesi')]\n",
    "beeches_on_tiles_north=gpd.overlay(beeches_north[['no_arbre', 'etat_sanitaire', 'geometry']],\n",
    "                                    tiles_north[['NAME', 'geometry']])\n",
    "beeches_on_tiles_north['filepath']=[os.path.join(NORTH_ORTHO, 'North_ortho_JUHE_LV95_NF02_3cm_' + name + '.tif')\n",
    "                                        for name in beeches_on_tiles_north['NAME'].values]"
   ]
  },
  {
   "cell_type": "code",
   "execution_count": null,
   "metadata": {},
   "outputs": [],
   "source": [
    "del tiles_north, beeches_north"
   ]
  },
  {
   "cell_type": "code",
   "execution_count": null,
   "metadata": {},
   "outputs": [],
   "source": [
    "pixels_north=pd.DataFrame()\n",
    "for beech in beeches_on_tiles_north.itertuples():\n",
    "    pixels=fct_misc.get_pixel_values(beech.geometry, beech.filepath, bands=range(1,5),\n",
    "        health_status=beech.etat_sanitaire)\n",
    "\n",
    "    pixels_north=pd.concat([pixels_north, pixels])"
   ]
  },
  {
   "cell_type": "code",
   "execution_count": null,
   "metadata": {},
   "outputs": [],
   "source": [
    "pixels_beeches=pd.concat([pixels_north, pixels_south], ignore_index=True)"
   ]
  },
  {
   "cell_type": "code",
   "execution_count": null,
   "metadata": {},
   "outputs": [],
   "source": [
    "del pixels_north, pixels_south, pixels"
   ]
  },
  {
   "cell_type": "code",
   "execution_count": null,
   "metadata": {},
   "outputs": [],
   "source": [
    "pixels_beeches.rename(columns={'band1':'Rouge', 'band2':'Vert', 'band3':'Bleu', 'band4':'Proche IR'}, inplace=True)\n"
   ]
  },
  {
   "cell_type": "code",
   "execution_count": null,
   "metadata": {},
   "outputs": [],
   "source": [
    "pixels_beeches['NDVI']=(pixels_beeches['Proche IR'].astype('float64')-\n",
    "                            pixels_beeches['Rouge'].astype('float64'))/(pixels_beeches['Proche IR'].astype('float64')+\n",
    "                                                                            pixels_beeches['Rouge'].astype('float64'))\n",
    "\n",
    "pixels_beeches.loc[pixels_beeches['health_status']=='sain', 'health_status']='1. sain'\n",
    "pixels_beeches.loc[pixels_beeches['health_status']=='malade', 'health_status']='2. malade'\n",
    "pixels_beeches.loc[pixels_beeches['health_status']=='mort', 'health_status']='3. mort'\n"
   ]
  },
  {
   "cell_type": "code",
   "execution_count": null,
   "metadata": {},
   "outputs": [],
   "source": [
    "pixels_beeches[pixels_beeches['NDVI']>=0.90]  # .to_csv('test.csv') "
   ]
  },
  {
   "cell_type": "code",
   "execution_count": null,
   "metadata": {},
   "outputs": [],
   "source": [
    "pixels_beeches=pixels_beeches[pixels_beeches['NDVI']<0.90]"
   ]
  },
  {
   "cell_type": "code",
   "execution_count": null,
   "metadata": {},
   "outputs": [],
   "source": [
    "table_path=fct_misc.ensure_dir_exists(os.path.join(DATA_PATH, 'final/tables'))\n",
    "im_path=fct_misc.ensure_dir_exists(os.path.join(DATA_PATH, 'final/images'))"
   ]
  },
  {
   "cell_type": "code",
   "execution_count": null,
   "metadata": {},
   "outputs": [],
   "source": [
    "boxplots=pixels_beeches.plot.box(by='health_status',\n",
    "                            title='Distribution des pixels en fonction de l\\'état sanitaire',\n",
    "                            figsize=(16,5),\n",
    "                            grid=True)\n",
    "fig = boxplots[0].get_figure()\n",
    "filename=os.path.join(im_path, 'bxplt_distribution_status_health.jpg')\n",
    "fig.savefig(filename, bbox_inches='tight')\n",
    "written_files.append(filename)"
   ]
  },
  {
   "cell_type": "code",
   "execution_count": null,
   "metadata": {},
   "outputs": [],
   "source": [
    "features = pixels_beeches.columns.tolist()\n",
    "features.remove('health_status')\n",
    "to_describe='health_status'\n",
    "\n",
    "written_files_pca_pixels=pca_procedure(pixels_beeches, features, to_describe,\n",
    "                        table_path, im_path, \n",
    "                        file_prefix=f'PCA_beeches_',\n",
    "                        title_graph='PCA for the values of the pixels on each band and the NDVI')\n",
    "\n",
    "written_files.extend(written_files_pca_pixels)"
   ]
  },
  {
   "attachments": {},
   "cell_type": "markdown",
   "metadata": {},
   "source": [
    "Calculate NDVI rasters"
   ]
  },
  {
   "cell_type": "code",
   "execution_count": null,
   "metadata": {},
   "outputs": [],
   "source": [
    "tiles_list=[]\n",
    "tiles_list.extend(tiles_list_north)\n",
    "tiles_list.extend(tiles_list_south)"
   ]
  },
  {
   "cell_type": "code",
   "execution_count": null,
   "metadata": {},
   "outputs": [],
   "source": [
    "for tile in tiles_list:\n",
    "    with rasterio.open(tile) as src:\n",
    "        image = src.read()\n",
    "        im_profile=src.profile\n",
    "\n",
    "    red_band=image[0].astype('float32')\n",
    "    nir_band=image[3].astype('float32')\n",
    "    ndvi_tile=np.divide((nir_band - red_band),(nir_band + red_band),\n",
    "                        out=np.zeros_like(nir_band - red_band),\n",
    "                        where=(nir_band + red_band)!=0)\n",
    "\n",
    "    im_profile.update(count= 1,\n",
    "                    dtype='float32')\n",
    "    tile_path=os.path.join(DATA_PATH, 'processed/NDVI', tile.split('/')[-1])\n",
    "    with rasterio.open(tile_path.replace('ortho_JUHE_LV95_NF02_3cm', 'NDVI'), 'w', **im_profile) as dst:\n",
    "        dst.write(ndvi_tile,1)\n",
    "        written_files.append(tile_path)"
   ]
  },
  {
   "cell_type": "code",
   "execution_count": null,
   "metadata": {},
   "outputs": [],
   "source": [
    "print('Some files were written:')\n",
    "for file in written_files:\n",
    "    print(file)"
   ]
  },
  {
   "cell_type": "code",
   "execution_count": null,
   "metadata": {},
   "outputs": [],
   "source": []
  }
 ],
 "metadata": {
  "kernelspec": {
   "display_name": "hetres",
   "language": "python",
   "name": "python3"
  },
  "language_info": {
   "codemirror_mode": {
    "name": "ipython",
    "version": 3
   },
   "file_extension": ".py",
   "mimetype": "text/x-python",
   "name": "python",
   "nbconvert_exporter": "python",
   "pygments_lexer": "ipython3",
   "version": "3.8.10"
  },
  "orig_nbformat": 4,
  "vscode": {
   "interpreter": {
    "hash": "d26f081f1dde88e32ee65cc3add2c47cd074c36282fa36642e704f93530892f7"
   }
  }
 },
 "nbformat": 4,
 "nbformat_minor": 2
}
